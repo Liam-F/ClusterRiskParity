{
 "cells": [
  {
   "cell_type": "markdown",
   "metadata": {},
   "source": [
    "# In sample portfolio strategies\n"
   ]
  },
  {
   "cell_type": "markdown",
   "metadata": {},
   "source": [
    "### Import CLA and define getCLA \n",
    "\n",
    "The CLA algorithm is borrowed from Prado and Bailey (2013)'s open source implementation"
   ]
  },
  {
   "cell_type": "code",
   "execution_count": 40,
   "metadata": {
    "collapsed": true
   },
   "outputs": [],
   "source": [
    "from importlib import reload"
   ]
  },
  {
   "cell_type": "code",
   "execution_count": 41,
   "metadata": {
    "scrolled": true
   },
   "outputs": [],
   "source": [
    "import scipy.cluster.hierarchy as sch,random,numpy as np,pandas as pd, CLA\n",
    "\n",
    "def getCLA(cov,**kargs):\n",
    "    # Compute CLA's minimum variance portfolio\n",
    "    mean=np.arange(cov.shape[0]).reshape(-1,1) # Not used by C portf\n",
    "    lB=np.zeros(mean.shape)\n",
    "    uB=np.ones(mean.shape)\n",
    "    cla=CLA.CLA(mean,cov,lB,uB)\n",
    "    cla.solve()\n",
    "    return cla.w[-1].flatten()"
   ]
  },
  {
   "cell_type": "markdown",
   "metadata": {},
   "source": [
    "### Prepare Gurobi solver to solve QP"
   ]
  },
  {
   "cell_type": "code",
   "execution_count": 9,
   "metadata": {},
   "outputs": [],
   "source": [
    "from gurobipy import *\n",
    "def QPsol(cov,**kargs):\n",
    "    m = Model()\n",
    "    # Create one variable for each stock\n",
    "    portvars = [m.addVar(name=str(i),lb=0.0,ub=1.0) for i in range(1, cov.shape[0]+1)]\n",
    "    portvars = pd.Series(portvars, index=range(1, cov.shape[0]+1))\n",
    "    portfolio = pd.DataFrame({'Variables':portvars})\n",
    "    \n",
    "    m.update()\n",
    "\n",
    "    # The total budget\n",
    "    p_total = portvars.sum()\n",
    "\n",
    "    # The mean return for the portfolio\n",
    "    #p_return = stats['Mean_return'].dot(portvars)\n",
    "    # The (squared) volatility of the portfolio\n",
    "    #print cov\n",
    "    p_risk = np.transpose(portvars).dot(cov).dot(portvars)\n",
    "    # Commit the changes to the model\n",
    "    m.update()\n",
    "\n",
    "    # Set the objective: minimize risk\n",
    "    m.setObjective(p_risk, GRB.MINIMIZE)\n",
    "\n",
    "    # Fix the budget\n",
    "    m.addConstr(p_total, GRB.EQUAL, 1)\n",
    "\n",
    "    # Turn off the output\n",
    "    m.params.OutputFlag = 0\n",
    "    # Select a simplex algorithm (to ensure a vertex solution)\n",
    "    m.setParam('Method', 1)  \n",
    "    m.optimize()\n",
    "    m.update()\n",
    "\n",
    "\n",
    "    # Get the optimal portfolio weights for zero return portfolio.\n",
    "    w = portvars.apply(lambda x:x.getAttr('x'))\n",
    "    return w"
   ]
  },
  {
   "cell_type": "markdown",
   "metadata": {},
   "source": [
    "### Hierarchical Risk Parity Algorithm\n",
    "The algorithm is implemented as it is described in the paper\n"
   ]
  },
  {
   "cell_type": "code",
   "execution_count": 21,
   "metadata": {},
   "outputs": [],
   "source": [
    "# Hierarchical Risk Parity\n",
    "#matplotlib inline\n",
    "import matplotlib.pyplot as mpl\n",
    "import scipy.cluster.hierarchy as sch,random,numpy as np,pandas as pd\n",
    "#------------------------------------------------------------------------------\n",
    "def getIVP(cov,**kargs):\n",
    "    # Compute the inverse-variance portfolio\n",
    "    ivp=1./np.diag(cov)\n",
    "    ivp/=ivp.sum()\n",
    "    return ivp\n",
    "#------------------------------------------------------------------------------\n",
    "def getClusterVar(cov,cItems):\n",
    "    # Compute variance per cluster\n",
    "    cov_=cov.loc[cItems,cItems] # matrix slice\n",
    "    w_=getIVP(cov_).reshape(-1,1)\n",
    "    cVar=np.dot(np.dot(w_.T,cov_),w_)[0,0]\n",
    "    return cVar\n",
    "#------------------------------------------------------------------------------\n",
    "def getQuasiDiag(link):\n",
    "    # Sort clustered items by distance\n",
    "    link=link.astype(int)\n",
    "    sortIx=pd.Series([link[-1,0],link[-1,1]])\n",
    "    numItems=link[-1,3] # number of original items\n",
    "    while sortIx.max()>=numItems:\n",
    "        sortIx.index=range(0,sortIx.shape[0]*2,2) # make space\n",
    "        df0=sortIx[sortIx>=numItems] # find clusters\n",
    "        i=df0.index;j=df0.values-numItems\n",
    "        sortIx[i]=link[j,0] # item 1\n",
    "        df0=pd.Series(link[j,1],index=i+1)\n",
    "        sortIx=sortIx.append(df0) # item 2\n",
    "        sortIx=sortIx.sort_index() # re-sort\n",
    "        sortIx.index=range(sortIx.shape[0]) # re-index\n",
    "    return sortIx.tolist()\n",
    "#------------------------------------------------------------------------------\n",
    "def getRecBipart(cov,sortIx):\n",
    "    # Compute HRP alloc\n",
    "    w=pd.Series(1,index=sortIx)\n",
    "    cItems=[sortIx] # initialize all items in one cluster\n",
    "    while len(cItems)>0:\n",
    "        cItems=[i[j:k] for i in cItems for j,k in ((0,round(len(i)/2)), (round(len(i)/2),len(i))) if len(i)>1] # bi-section\n",
    "        for i in range(0,len(cItems),2): # parse in pairs\n",
    "            #print cItems\n",
    "            cItems0=cItems[i] # cluster 1\n",
    "            #print \"cItems0\",cItems0\n",
    "            cItems1=cItems[i+1] # cluster 2\n",
    "            cVar0=getClusterVar(cov,cItems0)\n",
    "            cVar1=getClusterVar(cov,cItems1)\n",
    "            alpha=1-cVar0/(cVar0+cVar1)\n",
    "            w[cItems0]*=alpha # weight 1\n",
    "            w[cItems1]*=1-alpha # weight 2\n",
    "    return w\n",
    "#------------------------------------------------------------------------------\n",
    "def correlDist(corr):\n",
    "    # A distance matrix based on correlation, where 0<=d[i,j]<=1\n",
    "    # This is a proper distance metric\n",
    "    dist=(2*(1-corr))**.5 # distance matrix\n",
    "    return dist\n",
    "\n",
    "\n",
    "#------------------------------------------------------------------------------\n",
    "def plotCorrMatrix(path,corr,labels=None):\n",
    "    # Heatmap of the correlation matrix\n",
    "    if labels is None:labels=[]\n",
    "    mpl.pcolor(corr)\n",
    "    mpl.colorbar()\n",
    "    mpl.yticks(np.arange(.5,corr.shape[0]+.5),labels)\n",
    "    mpl.xticks(np.arange(.5,corr.shape[0]+.5),labels)\n",
    "    #mpl.savefig(path)\n",
    "    #mpl.clf();\n",
    "    #mpl.close() # reset pylab\n",
    "    mpl.show()\n",
    "    mpl.close()\n",
    "    return\n",
    "#------------------------------------------------------------------------------\n",
    "\n"
   ]
  },
  {
   "cell_type": "markdown",
   "metadata": {},
   "source": [
    "### In sample results"
   ]
  },
  {
   "cell_type": "code",
   "execution_count": null,
   "metadata": {
    "collapsed": true
   },
   "outputs": [],
   "source": [
    "def generateData(nObs,size0,size1,sigma1):\n",
    "    # Time series of correlated variables\n",
    "    #1) generating some uncorrelated data\n",
    "    np.random.seed(seed=12345);random.seed(12345)\n",
    "    x=np.random.normal(0,1,size=(nObs,size0)) # each row is a variable\n",
    "    #print \"Correlations\",np.corrcoef(x)\n",
    "    #2) creating correlation between the variables\n",
    "    cols=[random.randint(0,size0-1) for i in range(size1)]\n",
    "    #print cols\n",
    "    # Add mild and strong correlations between the assets-2\n",
    "    y=x[:,cols]+np.random.normal(0,sigma1,size=(nObs,len(cols)))\n",
    "    #y=x[:,cols]+np.random.normal(0,sigma1,size=(nObs,len(cols)))\n",
    "    x=np.append(x,y,axis=1)\n",
    "    x=pd.DataFrame(x,columns=range(1,x.shape[1]+1))\n",
    "    return x,cols"
   ]
  },
  {
   "cell_type": "code",
   "execution_count": 57,
   "metadata": {},
   "outputs": [
    {
     "data": {
      "text/plain": [
       "<module 'CLA' from '/home/ubuntu/notebook/RiskParity/CLA.py'>"
      ]
     },
     "execution_count": 57,
     "metadata": {},
     "output_type": "execute_result"
    }
   ],
   "source": [
    "reload(CLA)"
   ]
  },
  {
   "cell_type": "code",
   "execution_count": 58,
   "metadata": {},
   "outputs": [
    {
     "name": "stdout",
     "output_type": "stream",
     "text": [
      "1     0.960407\n",
      "2     1.001069\n",
      "3     0.992179\n",
      "4     1.031637\n",
      "5     0.988017\n",
      "6     1.055300\n",
      "7     0.979578\n",
      "8     1.022091\n",
      "9     1.020384\n",
      "10    1.018361\n",
      "dtype: float64\n",
      "          1         2         3         4         5         6         7   \\\n",
      "1   1.000000 -0.038233 -0.031407  0.014190  0.008599  0.020826  0.967417   \n",
      "2  -0.038233  1.000000 -0.028351  0.031914 -0.030051  0.035024 -0.053394   \n",
      "3  -0.031407 -0.028351  1.000000 -0.029119  0.022387 -0.032061 -0.025562   \n",
      "4   0.014190  0.031914 -0.029119  1.000000 -0.038948  0.969197  0.010280   \n",
      "5   0.008599 -0.030051  0.022387 -0.038948  1.000000 -0.022382  0.003445   \n",
      "6   0.020826  0.035024 -0.032061  0.969197 -0.022382  1.000000  0.017415   \n",
      "7   0.967417 -0.053394 -0.025562  0.010280  0.003445  0.017415  1.000000   \n",
      "8  -0.034293 -0.022853  0.970866 -0.035098  0.020734 -0.037046 -0.027581   \n",
      "9  -0.023258 -0.026937  0.969739 -0.026222  0.022399 -0.030702 -0.015085   \n",
      "10 -0.022718  0.969529 -0.031486  0.032490 -0.026804  0.034553 -0.041416   \n",
      "\n",
      "          8         9         10  \n",
      "1  -0.034293 -0.023258 -0.022718  \n",
      "2  -0.022853 -0.026937  0.969529  \n",
      "3   0.970866  0.969739 -0.031486  \n",
      "4  -0.035098 -0.026222  0.032490  \n",
      "5   0.020734  0.022399 -0.026804  \n",
      "6  -0.037046 -0.030702  0.034553  \n",
      "7  -0.027581 -0.015085 -0.041416  \n",
      "8   1.000000  0.937653 -0.025220  \n",
      "9   0.937653  1.000000 -0.032918  \n",
      "10 -0.025220 -0.032918  1.000000  \n",
      "cov 55\n",
      "corr 46\n"
     ]
    },
    {
     "data": {
      "image/png": "[encoded data removed]",
      "text/plain": [
       "<matplotlib.figure.Figure at 0x7f12e5787f98>"
      ]
     },
     "metadata": {},
     "output_type": "display_data"
    },
    {
     "name": "stdout",
     "output_type": "stream",
     "text": [
      "[[  1.           9.           0.34942691   2.        ]\n",
      " [  3.           5.           0.35130495   2.        ]\n",
      " [  2.           7.           0.35788034   2.        ]\n",
      " [  0.           6.           0.36153842   2.        ]\n",
      " [  8.          12.           0.36554134   3.        ]\n",
      " [  4.          13.           2.30422362   3.        ]\n",
      " [ 11.          15.           2.34993308   5.        ]\n",
      " [ 10.          16.           2.35144249   7.        ]\n",
      " [ 14.          17.           2.51670937  10.        ]]\n"
     ]
    },
    {
     "data": {
      "image/png": "[encoded data removed]",
      "text/plain": [
       "<matplotlib.figure.Figure at 0x7f12e5466c18>"
      ]
     },
     "metadata": {},
     "output_type": "display_data"
    },
    {
     "data": {
      "image/png": "[encoded data removed]",
      "text/plain": [
       "<matplotlib.figure.Figure at 0x7f12e54876d8>"
      ]
     },
     "metadata": {},
     "output_type": "display_data"
    },
    {
     "ename": "GurobiError",
     "evalue": "No Gurobi license found (user ubuntu, host ip-172-31-1-219, hostid 9d704ccf)",
     "output_type": "error",
     "traceback": [
      "\u001b[0;31m---------------------------------------------------------------------------\u001b[0m",
      "\u001b[0;31mGurobiError\u001b[0m                               Traceback (most recent call last)",
      "\u001b[0;32m<ipython-input-58-b604c88a16f1>\u001b[0m in \u001b[0;36m<module>\u001b[0;34m()\u001b[0m\n\u001b[1;32m     51\u001b[0m \u001b[0mwCLA\u001b[0m \u001b[0;34m=\u001b[0m \u001b[0mpd\u001b[0m\u001b[0;34m.\u001b[0m\u001b[0mSeries\u001b[0m\u001b[0;34m(\u001b[0m\u001b[0mgetCLA\u001b[0m\u001b[0;34m(\u001b[0m\u001b[0mcovCLA\u001b[0m\u001b[0;34m)\u001b[0m\u001b[0;34m,\u001b[0m\u001b[0mindex\u001b[0m \u001b[0;34m=\u001b[0m \u001b[0mrange\u001b[0m\u001b[0;34m(\u001b[0m\u001b[0;36m1\u001b[0m\u001b[0;34m,\u001b[0m\u001b[0;36m11\u001b[0m\u001b[0;34m)\u001b[0m\u001b[0;34m)\u001b[0m\u001b[0;34m\u001b[0m\u001b[0m\n\u001b[1;32m     52\u001b[0m \u001b[0mwCLA\u001b[0m\u001b[0;34m.\u001b[0m\u001b[0mreset_index\u001b[0m\u001b[0;34m(\u001b[0m\u001b[0;34m)\u001b[0m\u001b[0;34m\u001b[0m\u001b[0m\n\u001b[0;32m---> 53\u001b[0;31m \u001b[0mqw\u001b[0m \u001b[0;34m=\u001b[0m \u001b[0mQPsol\u001b[0m\u001b[0;34m(\u001b[0m\u001b[0mcovCLA\u001b[0m\u001b[0;34m)\u001b[0m\u001b[0;34m\u001b[0m\u001b[0m\n\u001b[0m\u001b[1;32m     54\u001b[0m \u001b[0mresult\u001b[0m \u001b[0;34m=\u001b[0m \u001b[0mpd\u001b[0m\u001b[0;34m.\u001b[0m\u001b[0mconcat\u001b[0m\u001b[0;34m(\u001b[0m\u001b[0;34m[\u001b[0m\u001b[0mhrp\u001b[0m\u001b[0;34m,\u001b[0m \u001b[0mwIVP\u001b[0m\u001b[0;34m,\u001b[0m \u001b[0mwCLA\u001b[0m\u001b[0;34m,\u001b[0m \u001b[0mqw\u001b[0m\u001b[0;34m]\u001b[0m\u001b[0;34m,\u001b[0m \u001b[0maxis\u001b[0m\u001b[0;34m=\u001b[0m\u001b[0;36m1\u001b[0m\u001b[0;34m,\u001b[0m \u001b[0mjoin_axes\u001b[0m\u001b[0;34m=\u001b[0m\u001b[0;34m[\u001b[0m\u001b[0mwIVP\u001b[0m\u001b[0;34m.\u001b[0m\u001b[0mindex\u001b[0m\u001b[0;34m]\u001b[0m\u001b[0;34m)\u001b[0m\u001b[0;34m\u001b[0m\u001b[0m\n\u001b[1;32m     55\u001b[0m \u001b[0mresult\u001b[0m\u001b[0;34m.\u001b[0m\u001b[0mcolumns\u001b[0m\u001b[0;34m=\u001b[0m\u001b[0;34m[\u001b[0m\u001b[0;34m'HRP'\u001b[0m\u001b[0;34m,\u001b[0m\u001b[0;34m'IVP'\u001b[0m\u001b[0;34m,\u001b[0m\u001b[0;34m'CLA'\u001b[0m\u001b[0;34m,\u001b[0m\u001b[0;34m'QP'\u001b[0m\u001b[0;34m]\u001b[0m\u001b[0;34m\u001b[0m\u001b[0m\n",
      "\u001b[0;32m<ipython-input-9-db964f0ebbaa>\u001b[0m in \u001b[0;36mQPsol\u001b[0;34m(cov, **kargs)\u001b[0m\n\u001b[1;32m      1\u001b[0m \u001b[0;32mfrom\u001b[0m \u001b[0mgurobipy\u001b[0m \u001b[0;32mimport\u001b[0m \u001b[0;34m*\u001b[0m\u001b[0;34m\u001b[0m\u001b[0m\n\u001b[1;32m      2\u001b[0m \u001b[0;32mdef\u001b[0m \u001b[0mQPsol\u001b[0m\u001b[0;34m(\u001b[0m\u001b[0mcov\u001b[0m\u001b[0;34m,\u001b[0m\u001b[0;34m**\u001b[0m\u001b[0mkargs\u001b[0m\u001b[0;34m)\u001b[0m\u001b[0;34m:\u001b[0m\u001b[0;34m\u001b[0m\u001b[0m\n\u001b[0;32m----> 3\u001b[0;31m     \u001b[0mm\u001b[0m \u001b[0;34m=\u001b[0m \u001b[0mModel\u001b[0m\u001b[0;34m(\u001b[0m\u001b[0;34m)\u001b[0m\u001b[0;34m\u001b[0m\u001b[0m\n\u001b[0m\u001b[1;32m      4\u001b[0m     \u001b[0;31m# Create one variable for each stock\u001b[0m\u001b[0;34m\u001b[0m\u001b[0;34m\u001b[0m\u001b[0m\n\u001b[1;32m      5\u001b[0m     \u001b[0mportvars\u001b[0m \u001b[0;34m=\u001b[0m \u001b[0;34m[\u001b[0m\u001b[0mm\u001b[0m\u001b[0;34m.\u001b[0m\u001b[0maddVar\u001b[0m\u001b[0;34m(\u001b[0m\u001b[0mname\u001b[0m\u001b[0;34m=\u001b[0m\u001b[0mstr\u001b[0m\u001b[0;34m(\u001b[0m\u001b[0mi\u001b[0m\u001b[0;34m)\u001b[0m\u001b[0;34m,\u001b[0m\u001b[0mlb\u001b[0m\u001b[0;34m=\u001b[0m\u001b[0;36m0.0\u001b[0m\u001b[0;34m,\u001b[0m\u001b[0mub\u001b[0m\u001b[0;34m=\u001b[0m\u001b[0;36m1.0\u001b[0m\u001b[0;34m)\u001b[0m \u001b[0;32mfor\u001b[0m \u001b[0mi\u001b[0m \u001b[0;32min\u001b[0m \u001b[0mrange\u001b[0m\u001b[0;34m(\u001b[0m\u001b[0;36m1\u001b[0m\u001b[0;34m,\u001b[0m \u001b[0mcov\u001b[0m\u001b[0;34m.\u001b[0m\u001b[0mshape\u001b[0m\u001b[0;34m[\u001b[0m\u001b[0;36m0\u001b[0m\u001b[0;34m]\u001b[0m\u001b[0;34m+\u001b[0m\u001b[0;36m1\u001b[0m\u001b[0;34m)\u001b[0m\u001b[0;34m]\u001b[0m\u001b[0;34m\u001b[0m\u001b[0m\n",
      "\u001b[0;32mmodel.pxi\u001b[0m in \u001b[0;36mgurobipy.Model.__init__ (../../src/python/gurobipy.c:44184)\u001b[0;34m()\u001b[0m\n",
      "\u001b[0;32mgurobi.pxi\u001b[0m in \u001b[0;36mgurobipy.gurobi._getdefaultenv (../../src/python/gurobipy.c:111265)\u001b[0;34m()\u001b[0m\n",
      "\u001b[0;32menv.pxi\u001b[0m in \u001b[0;36mgurobipy.Env.__init__ (../../src/python/gurobipy.c:6914)\u001b[0;34m()\u001b[0m\n",
      "\u001b[0;31mGurobiError\u001b[0m: No Gurobi license found (user ubuntu, host ip-172-31-1-219, hostid 9d704ccf)"
     ]
    }
   ],
   "source": [
    "#------------------------------------------------------------------------------\n",
    "# def main():\n",
    "#1) Generate correlated data\n",
    "nObs,size0,size1,sigma1=1000,5,5,.25\n",
    "x,cols=generateData(nObs,size0,size1,sigma1)\n",
    "#print x.dtypes\n",
    "#print [(j+1,size0+i) for i,j in enumerate(cols,1)]\n",
    "#2) compute and plot correl matrix\n",
    "#print x.shape\n",
    "#B=covNYSE10\n",
    "#B=pd.DataFrame(B)\n",
    "cov,corr,std=x.cov(),x.corr(),x.std()\n",
    "print(std)\n",
    "std_diag = np.diag(std)\n",
    "print(corr)\n",
    "#cov = corr.dot(std_diag).dot(std_diag)\n",
    "#corr=B\n",
    "#print corr\n",
    "covCLA = cov.values\n",
    "corrCLA = corr.values\n",
    "print('cov',len(np.unique(cov)))\n",
    "print('corr',len(np.unique(corr)))   \n",
    "#print covCLA\n",
    "plotCorrMatrix('HRP3_corr0.png',corr,labels=corr.columns)\n",
    "#3) cluster\n",
    "dist=correlDist(corr)\n",
    "#print dist\n",
    "link=sch.linkage(dist,'single')\n",
    "print(link)\n",
    "sortIx=getQuasiDiag(link)\n",
    "sortIx=corr.index[sortIx].tolist() # recover labels\n",
    "df0=corr.loc[sortIx,sortIx] # reorder\n",
    "cov_hrp=cov.loc[sortIx,sortIx] # reorder\n",
    "plotCorrMatrix('HRP3_corr1.png',df0,labels=df0.columns)\n",
    "#4) Capital allocation\n",
    "# calculate full dendrogram\n",
    "mpl.figure()\n",
    "mpl.title('Hierarchical Clustering Dendrogram')\n",
    "mpl.xlabel('sample index')\n",
    "mpl.ylabel('distance')\n",
    "sch.dendrogram(\n",
    "link,\n",
    "labels=corr.index.tolist(),\n",
    "leaf_rotation=90.,  # rotates the x axis labels\n",
    "leaf_font_size=8.,  # font size for the x axis labels\n",
    ")\n",
    "mpl.show()\n",
    "hrp=getRecBipart(cov,sortIx)\n",
    "w_=getIVP(cov)\n",
    "wIVP = pd.Series(w_,index = range(1,11))\n",
    "wCLA = pd.Series(getCLA(covCLA),index = range(1,11))\n",
    "wCLA.reset_index()\n",
    "qw = QPsol(covCLA)\n",
    "result = pd.concat([hrp, wIVP, wCLA, qw], axis=1, join_axes=[wIVP.index])\n",
    "result.columns=['HRP','IVP','CLA','QP']\n",
    "riskIVP = cov.dot(wIVP).dot(wIVP)\n",
    "riskhrp = cov_hrp.dot(hrp).dot(hrp)\n",
    "riskCLA = cov.dot(wCLA).dot(wCLA)\n",
    "riskqw = cov.dot(qw).dot(qw)\n",
    "liste = [riskhrp, riskIVP, riskCLA, riskqw]\n",
    "risk_result = pd.DataFrame(liste).transpose()\n",
    "risk_result.columns=['HRP','IVP','CLA','QP']\n",
    "\n",
    "print(\"Portfolio weights\\n\", result,\"\\n\")\n",
    "print(\"Portfolio risk\\n\", risk_result)\n",
    "#     return result\n",
    "\n",
    "#------------------------------------------------------------------------------"
   ]
  }
 ],
 "metadata": {
  "anaconda-cloud": {},
  "kernelspec": {
   "display_name": "Python [conda root]",
   "language": "python",
   "name": "conda-root-py"
  },
  "language_info": {
   "codemirror_mode": {
    "name": "ipython",
    "version": 3
   },
   "file_extension": ".py",
   "mimetype": "text/x-python",
   "name": "python",
   "nbconvert_exporter": "python",
   "pygments_lexer": "ipython3",
   "version": "3.5.3"
  }
 },
 "nbformat": 4,
 "nbformat_minor": 1
}
